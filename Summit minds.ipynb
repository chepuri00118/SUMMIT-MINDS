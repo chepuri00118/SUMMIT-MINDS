{
 "cells": [
  {
   "cell_type": "code",
   "execution_count": 1,
   "metadata": {},
   "outputs": [],
   "source": [
    "import pandas as pd\n",
    "import numpy as np\n",
    "import matplotlib.pyplot as plt"
   ]
  },
  {
   "cell_type": "code",
   "execution_count": 2,
   "metadata": {},
   "outputs": [],
   "source": [
    "df=pd.read_excel(\"customersdata.xlsx\")"
   ]
  },
  {
   "cell_type": "code",
   "execution_count": 3,
   "metadata": {},
   "outputs": [
    {
     "data": {
      "text/plain": [
       "Index(['fraudulent', 'customer__customerEmail', 'customer__customerPhone',\n",
       "       'customer__customerDevice', 'customer__customerIPAddress',\n",
       "       'customer__customerBillingAddress', 'orders__orderId',\n",
       "       'orders__orderAmount', 'orders__orderState',\n",
       "       'orders__orderShippingAddress', 'paymentMethods__paymentMethodId',\n",
       "       'paymentMethods__paymentMethodRegistrationFailure',\n",
       "       'paymentMethods__paymentMethodType',\n",
       "       'paymentMethods__paymentMethodProvider',\n",
       "       'paymentMethods__paymentMethodIssuer', 'transactions__transactionId',\n",
       "       'transactions__orderId', 'transactions__paymentMethodId',\n",
       "       'transactions__transactionAmount', 'transactions__transactionFailed'],\n",
       "      dtype='object')"
      ]
     },
     "execution_count": 3,
     "metadata": {},
     "output_type": "execute_result"
    }
   ],
   "source": [
    "df.columns"
   ]
  },
  {
   "cell_type": "code",
   "execution_count": 5,
   "metadata": {},
   "outputs": [],
   "source": [
    "df1=df.drop(['customer__customerEmail','orders__orderAmount','customer__customerBillingAddress','customer__customerIPAddress','orders__orderShippingAddress','customer__customerPhone','customer__customerDevice','orders__orderId','paymentMethods__paymentMethodId','paymentMethods__paymentMethodProvider','paymentMethods__paymentMethodIssuer','transactions__transactionId','transactions__orderId','transactions__paymentMethodId'],axis=1)"
   ]
  },
  {
   "cell_type": "code",
   "execution_count": 6,
   "metadata": {},
   "outputs": [
    {
     "data": {
      "text/html": [
       "<div>\n",
       "<style scoped>\n",
       "    .dataframe tbody tr th:only-of-type {\n",
       "        vertical-align: middle;\n",
       "    }\n",
       "\n",
       "    .dataframe tbody tr th {\n",
       "        vertical-align: top;\n",
       "    }\n",
       "\n",
       "    .dataframe thead th {\n",
       "        text-align: right;\n",
       "    }\n",
       "</style>\n",
       "<table border=\"1\" class=\"dataframe\">\n",
       "  <thead>\n",
       "    <tr style=\"text-align: right;\">\n",
       "      <th></th>\n",
       "      <th>fraudulent</th>\n",
       "      <th>orders__orderState</th>\n",
       "      <th>paymentMethods__paymentMethodRegistrationFailure</th>\n",
       "      <th>paymentMethods__paymentMethodType</th>\n",
       "      <th>transactions__transactionAmount</th>\n",
       "      <th>transactions__transactionFailed</th>\n",
       "    </tr>\n",
       "  </thead>\n",
       "  <tbody>\n",
       "    <tr>\n",
       "      <th>0</th>\n",
       "      <td>0.0</td>\n",
       "      <td>pending</td>\n",
       "      <td>1.0</td>\n",
       "      <td>card</td>\n",
       "      <td>18.0</td>\n",
       "      <td>0.0</td>\n",
       "    </tr>\n",
       "    <tr>\n",
       "      <th>1</th>\n",
       "      <td>NaN</td>\n",
       "      <td>fulfilled</td>\n",
       "      <td>NaN</td>\n",
       "      <td>NaN</td>\n",
       "      <td>26.0</td>\n",
       "      <td>0.0</td>\n",
       "    </tr>\n",
       "    <tr>\n",
       "      <th>2</th>\n",
       "      <td>1.0</td>\n",
       "      <td>fulfilled</td>\n",
       "      <td>1.0</td>\n",
       "      <td>bitcoin</td>\n",
       "      <td>45.0</td>\n",
       "      <td>0.0</td>\n",
       "    </tr>\n",
       "    <tr>\n",
       "      <th>3</th>\n",
       "      <td>NaN</td>\n",
       "      <td>fulfilled</td>\n",
       "      <td>0.0</td>\n",
       "      <td>card</td>\n",
       "      <td>23.0</td>\n",
       "      <td>0.0</td>\n",
       "    </tr>\n",
       "    <tr>\n",
       "      <th>4</th>\n",
       "      <td>NaN</td>\n",
       "      <td>fulfilled</td>\n",
       "      <td>0.0</td>\n",
       "      <td>card</td>\n",
       "      <td>43.0</td>\n",
       "      <td>1.0</td>\n",
       "    </tr>\n",
       "  </tbody>\n",
       "</table>\n",
       "</div>"
      ],
      "text/plain": [
       "   fraudulent orders__orderState  \\\n",
       "0         0.0            pending   \n",
       "1         NaN          fulfilled   \n",
       "2         1.0          fulfilled   \n",
       "3         NaN          fulfilled   \n",
       "4         NaN          fulfilled   \n",
       "\n",
       "   paymentMethods__paymentMethodRegistrationFailure  \\\n",
       "0                                               1.0   \n",
       "1                                               NaN   \n",
       "2                                               1.0   \n",
       "3                                               0.0   \n",
       "4                                               0.0   \n",
       "\n",
       "  paymentMethods__paymentMethodType  transactions__transactionAmount  \\\n",
       "0                              card                             18.0   \n",
       "1                               NaN                             26.0   \n",
       "2                           bitcoin                             45.0   \n",
       "3                              card                             23.0   \n",
       "4                              card                             43.0   \n",
       "\n",
       "   transactions__transactionFailed  \n",
       "0                              0.0  \n",
       "1                              0.0  \n",
       "2                              0.0  \n",
       "3                              0.0  \n",
       "4                              1.0  "
      ]
     },
     "execution_count": 6,
     "metadata": {},
     "output_type": "execute_result"
    }
   ],
   "source": [
    "df1.head()"
   ]
  },
  {
   "cell_type": "code",
   "execution_count": 7,
   "metadata": {},
   "outputs": [
    {
     "data": {
      "text/plain": [
       "(706, 6)"
      ]
     },
     "execution_count": 7,
     "metadata": {},
     "output_type": "execute_result"
    }
   ],
   "source": [
    "df1.shape"
   ]
  },
  {
   "cell_type": "code",
   "execution_count": 19,
   "metadata": {},
   "outputs": [
    {
     "data": {
      "text/plain": [
       "fulfilled    400\n",
       "failed        50\n",
       "pending       28\n",
       "Name: orders__orderState, dtype: int64"
      ]
     },
     "execution_count": 19,
     "metadata": {},
     "output_type": "execute_result"
    }
   ],
   "source": [
    "df1['orders__orderState'].value_counts()"
   ]
  },
  {
   "cell_type": "code",
   "execution_count": 20,
   "metadata": {},
   "outputs": [
    {
     "data": {
      "text/plain": [
       "card         242\n",
       "paypal        36\n",
       "apple pay     36\n",
       "bitcoin       28\n",
       "Name: paymentMethods__paymentMethodType, dtype: int64"
      ]
     },
     "execution_count": 20,
     "metadata": {},
     "output_type": "execute_result"
    }
   ],
   "source": [
    "df1['paymentMethods__paymentMethodType'].value_counts()"
   ]
  },
  {
   "cell_type": "code",
   "execution_count": 8,
   "metadata": {},
   "outputs": [
    {
     "data": {
      "text/plain": [
       "fraudulent                                          538\n",
       "orders__orderState                                  228\n",
       "paymentMethods__paymentMethodRegistrationFailure    364\n",
       "paymentMethods__paymentMethodType                   364\n",
       "transactions__transactionAmount                      83\n",
       "transactions__transactionFailed                      83\n",
       "dtype: int64"
      ]
     },
     "execution_count": 8,
     "metadata": {},
     "output_type": "execute_result"
    }
   ],
   "source": [
    "df1.isna().sum()"
   ]
  },
  {
   "cell_type": "code",
   "execution_count": 9,
   "metadata": {},
   "outputs": [
    {
     "data": {
      "text/plain": [
       "(array([[<matplotlib.axes._subplots.AxesSubplot object at 0x0000025400593CF8>]],\n",
       "       dtype=object),\n",
       " array([[<matplotlib.axes._subplots.AxesSubplot object at 0x0000025400608630>]],\n",
       "       dtype=object))"
      ]
     },
     "execution_count": 9,
     "metadata": {},
     "output_type": "execute_result"
    },
    {
     "data": {
      "image/png": "[encoded data removed]",
      "text/plain": [
       "<Figure size 432x288 with 1 Axes>"
      ]
     },
     "metadata": {
      "needs_background": "light"
     },
     "output_type": "display_data"
    },
    {
     "data": {
      "image/png": "[encoded data removed]",
      "text/plain": [
       "<Figure size 432x288 with 1 Axes>"
      ]
     },
     "metadata": {
      "needs_background": "light"
     },
     "output_type": "display_data"
    }
   ],
   "source": [
    "df1.hist('fraudulent',bins=5),df1.hist('transactions__transactionFailed',bins=5)"
   ]
  },
  {
   "cell_type": "code",
   "execution_count": 10,
   "metadata": {},
   "outputs": [
    {
     "data": {
      "text/plain": [
       "array([[<matplotlib.axes._subplots.AxesSubplot object at 0x0000025400642E10>]],\n",
       "      dtype=object)"
      ]
     },
     "execution_count": 10,
     "metadata": {},
     "output_type": "execute_result"
    },
    {
     "data": {
      "image/png": "[encoded data removed]",
      "text/plain": [
       "<Figure size 432x288 with 1 Axes>"
      ]
     },
     "metadata": {
      "needs_background": "light"
     },
     "output_type": "display_data"
    }
   ],
   "source": [
    "df1.hist('transactions__transactionAmount',bins=100)"
   ]
  },
  {
   "cell_type": "code",
   "execution_count": 11,
   "metadata": {},
   "outputs": [
    {
     "data": {
      "text/html": [
       "<div>\n",
       "<style scoped>\n",
       "    .dataframe tbody tr th:only-of-type {\n",
       "        vertical-align: middle;\n",
       "    }\n",
       "\n",
       "    .dataframe tbody tr th {\n",
       "        vertical-align: top;\n",
       "    }\n",
       "\n",
       "    .dataframe thead th {\n",
       "        text-align: right;\n",
       "    }\n",
       "</style>\n",
       "<table border=\"1\" class=\"dataframe\">\n",
       "  <thead>\n",
       "    <tr style=\"text-align: right;\">\n",
       "      <th></th>\n",
       "      <th>fraudulent</th>\n",
       "      <th>paymentMethods__paymentMethodRegistrationFailure</th>\n",
       "      <th>transactions__transactionAmount</th>\n",
       "      <th>transactions__transactionFailed</th>\n",
       "    </tr>\n",
       "  </thead>\n",
       "  <tbody>\n",
       "    <tr>\n",
       "      <th>count</th>\n",
       "      <td>168.000000</td>\n",
       "      <td>342.000000</td>\n",
       "      <td>623.000000</td>\n",
       "      <td>623.000000</td>\n",
       "    </tr>\n",
       "    <tr>\n",
       "      <th>mean</th>\n",
       "      <td>0.363095</td>\n",
       "      <td>0.116959</td>\n",
       "      <td>34.598716</td>\n",
       "      <td>0.269663</td>\n",
       "    </tr>\n",
       "    <tr>\n",
       "      <th>std</th>\n",
       "      <td>0.482330</td>\n",
       "      <td>0.321842</td>\n",
       "      <td>20.360247</td>\n",
       "      <td>0.444141</td>\n",
       "    </tr>\n",
       "    <tr>\n",
       "      <th>min</th>\n",
       "      <td>0.000000</td>\n",
       "      <td>0.000000</td>\n",
       "      <td>10.000000</td>\n",
       "      <td>0.000000</td>\n",
       "    </tr>\n",
       "    <tr>\n",
       "      <th>25%</th>\n",
       "      <td>0.000000</td>\n",
       "      <td>0.000000</td>\n",
       "      <td>21.000000</td>\n",
       "      <td>0.000000</td>\n",
       "    </tr>\n",
       "    <tr>\n",
       "      <th>50%</th>\n",
       "      <td>0.000000</td>\n",
       "      <td>0.000000</td>\n",
       "      <td>34.000000</td>\n",
       "      <td>0.000000</td>\n",
       "    </tr>\n",
       "    <tr>\n",
       "      <th>75%</th>\n",
       "      <td>1.000000</td>\n",
       "      <td>0.000000</td>\n",
       "      <td>45.000000</td>\n",
       "      <td>1.000000</td>\n",
       "    </tr>\n",
       "    <tr>\n",
       "      <th>max</th>\n",
       "      <td>1.000000</td>\n",
       "      <td>1.000000</td>\n",
       "      <td>353.000000</td>\n",
       "      <td>1.000000</td>\n",
       "    </tr>\n",
       "  </tbody>\n",
       "</table>\n",
       "</div>"
      ],
      "text/plain": [
       "       fraudulent  paymentMethods__paymentMethodRegistrationFailure  \\\n",
       "count  168.000000                                        342.000000   \n",
       "mean     0.363095                                          0.116959   \n",
       "std      0.482330                                          0.321842   \n",
       "min      0.000000                                          0.000000   \n",
       "25%      0.000000                                          0.000000   \n",
       "50%      0.000000                                          0.000000   \n",
       "75%      1.000000                                          0.000000   \n",
       "max      1.000000                                          1.000000   \n",
       "\n",
       "       transactions__transactionAmount  transactions__transactionFailed  \n",
       "count                       623.000000                       623.000000  \n",
       "mean                         34.598716                         0.269663  \n",
       "std                          20.360247                         0.444141  \n",
       "min                          10.000000                         0.000000  \n",
       "25%                          21.000000                         0.000000  \n",
       "50%                          34.000000                         0.000000  \n",
       "75%                          45.000000                         1.000000  \n",
       "max                         353.000000                         1.000000  "
      ]
     },
     "execution_count": 11,
     "metadata": {},
     "output_type": "execute_result"
    }
   ],
   "source": [
    "df1.describe()"
   ]
  },
  {
   "cell_type": "code",
   "execution_count": 12,
   "metadata": {},
   "outputs": [
    {
     "data": {
      "text/plain": [
       "<matplotlib.axes._subplots.AxesSubplot at 0x254007d2e48>"
      ]
     },
     "execution_count": 12,
     "metadata": {},
     "output_type": "execute_result"
    },
    {
     "data": {
      "image/png": "[encoded data removed]",
      "text/plain": [
       "<Figure size 432x288 with 1 Axes>"
      ]
     },
     "metadata": {
      "needs_background": "light"
     },
     "output_type": "display_data"
    }
   ],
   "source": [
    "df1.boxplot(column='transactions__transactionAmount')"
   ]
  },
  {
   "cell_type": "code",
   "execution_count": 13,
   "metadata": {},
   "outputs": [
    {
     "data": {
      "text/html": [
       "<div>\n",
       "<style scoped>\n",
       "    .dataframe tbody tr th:only-of-type {\n",
       "        vertical-align: middle;\n",
       "    }\n",
       "\n",
       "    .dataframe tbody tr th {\n",
       "        vertical-align: top;\n",
       "    }\n",
       "\n",
       "    .dataframe thead th {\n",
       "        text-align: right;\n",
       "    }\n",
       "</style>\n",
       "<table border=\"1\" class=\"dataframe\">\n",
       "  <thead>\n",
       "    <tr style=\"text-align: right;\">\n",
       "      <th></th>\n",
       "      <th>fraudulent</th>\n",
       "      <th>paymentMethods__paymentMethodRegistrationFailure</th>\n",
       "      <th>transactions__transactionAmount</th>\n",
       "      <th>transactions__transactionFailed</th>\n",
       "    </tr>\n",
       "  </thead>\n",
       "  <tbody>\n",
       "    <tr>\n",
       "      <th>fraudulent</th>\n",
       "      <td>1.000000</td>\n",
       "      <td>-0.080178</td>\n",
       "      <td>0.275806</td>\n",
       "      <td>0.040578</td>\n",
       "    </tr>\n",
       "    <tr>\n",
       "      <th>paymentMethods__paymentMethodRegistrationFailure</th>\n",
       "      <td>-0.080178</td>\n",
       "      <td>1.000000</td>\n",
       "      <td>-0.019467</td>\n",
       "      <td>0.007904</td>\n",
       "    </tr>\n",
       "    <tr>\n",
       "      <th>transactions__transactionAmount</th>\n",
       "      <td>0.275806</td>\n",
       "      <td>-0.019467</td>\n",
       "      <td>1.000000</td>\n",
       "      <td>0.002385</td>\n",
       "    </tr>\n",
       "    <tr>\n",
       "      <th>transactions__transactionFailed</th>\n",
       "      <td>0.040578</td>\n",
       "      <td>0.007904</td>\n",
       "      <td>0.002385</td>\n",
       "      <td>1.000000</td>\n",
       "    </tr>\n",
       "  </tbody>\n",
       "</table>\n",
       "</div>"
      ],
      "text/plain": [
       "                                                  fraudulent  \\\n",
       "fraudulent                                          1.000000   \n",
       "paymentMethods__paymentMethodRegistrationFailure   -0.080178   \n",
       "transactions__transactionAmount                     0.275806   \n",
       "transactions__transactionFailed                     0.040578   \n",
       "\n",
       "                                                  paymentMethods__paymentMethodRegistrationFailure  \\\n",
       "fraudulent                                                                               -0.080178   \n",
       "paymentMethods__paymentMethodRegistrationFailure                                          1.000000   \n",
       "transactions__transactionAmount                                                          -0.019467   \n",
       "transactions__transactionFailed                                                           0.007904   \n",
       "\n",
       "                                                  transactions__transactionAmount  \\\n",
       "fraudulent                                                               0.275806   \n",
       "paymentMethods__paymentMethodRegistrationFailure                        -0.019467   \n",
       "transactions__transactionAmount                                          1.000000   \n",
       "transactions__transactionFailed                                          0.002385   \n",
       "\n",
       "                                                  transactions__transactionFailed  \n",
       "fraudulent                                                               0.040578  \n",
       "paymentMethods__paymentMethodRegistrationFailure                         0.007904  \n",
       "transactions__transactionAmount                                          0.002385  \n",
       "transactions__transactionFailed                                          1.000000  "
      ]
     },
     "execution_count": 13,
     "metadata": {},
     "output_type": "execute_result"
    }
   ],
   "source": [
    "df1.corr(method='pearson')"
   ]
  },
  {
   "cell_type": "code",
   "execution_count": 30,
   "metadata": {},
   "outputs": [
    {
     "data": {
      "text/html": [
       "<div>\n",
       "<style scoped>\n",
       "    .dataframe tbody tr th:only-of-type {\n",
       "        vertical-align: middle;\n",
       "    }\n",
       "\n",
       "    .dataframe tbody tr th {\n",
       "        vertical-align: top;\n",
       "    }\n",
       "\n",
       "    .dataframe thead th {\n",
       "        text-align: right;\n",
       "    }\n",
       "</style>\n",
       "<table border=\"1\" class=\"dataframe\">\n",
       "  <thead>\n",
       "    <tr style=\"text-align: right;\">\n",
       "      <th></th>\n",
       "      <th>fraudulent</th>\n",
       "      <th>0.0</th>\n",
       "      <th>1.0</th>\n",
       "      <th>All</th>\n",
       "    </tr>\n",
       "    <tr>\n",
       "      <th>paymentMethods__paymentMethodType</th>\n",
       "      <th>orders__orderState</th>\n",
       "      <th></th>\n",
       "      <th></th>\n",
       "      <th></th>\n",
       "    </tr>\n",
       "  </thead>\n",
       "  <tbody>\n",
       "    <tr>\n",
       "      <th rowspan=\"2\" valign=\"top\">apple pay</th>\n",
       "      <th>failed</th>\n",
       "      <td>2</td>\n",
       "      <td>0</td>\n",
       "      <td>2</td>\n",
       "    </tr>\n",
       "    <tr>\n",
       "      <th>fulfilled</th>\n",
       "      <td>4</td>\n",
       "      <td>7</td>\n",
       "      <td>11</td>\n",
       "    </tr>\n",
       "    <tr>\n",
       "      <th rowspan=\"2\" valign=\"top\">bitcoin</th>\n",
       "      <th>failed</th>\n",
       "      <td>1</td>\n",
       "      <td>2</td>\n",
       "      <td>3</td>\n",
       "    </tr>\n",
       "    <tr>\n",
       "      <th>fulfilled</th>\n",
       "      <td>6</td>\n",
       "      <td>5</td>\n",
       "      <td>11</td>\n",
       "    </tr>\n",
       "    <tr>\n",
       "      <th rowspan=\"3\" valign=\"top\">card</th>\n",
       "      <th>failed</th>\n",
       "      <td>6</td>\n",
       "      <td>5</td>\n",
       "      <td>11</td>\n",
       "    </tr>\n",
       "    <tr>\n",
       "      <th>fulfilled</th>\n",
       "      <td>50</td>\n",
       "      <td>30</td>\n",
       "      <td>80</td>\n",
       "    </tr>\n",
       "    <tr>\n",
       "      <th>pending</th>\n",
       "      <td>5</td>\n",
       "      <td>1</td>\n",
       "      <td>6</td>\n",
       "    </tr>\n",
       "    <tr>\n",
       "      <th rowspan=\"3\" valign=\"top\">paypal</th>\n",
       "      <th>failed</th>\n",
       "      <td>2</td>\n",
       "      <td>0</td>\n",
       "      <td>2</td>\n",
       "    </tr>\n",
       "    <tr>\n",
       "      <th>fulfilled</th>\n",
       "      <td>10</td>\n",
       "      <td>3</td>\n",
       "      <td>13</td>\n",
       "    </tr>\n",
       "    <tr>\n",
       "      <th>pending</th>\n",
       "      <td>1</td>\n",
       "      <td>1</td>\n",
       "      <td>2</td>\n",
       "    </tr>\n",
       "    <tr>\n",
       "      <th>All</th>\n",
       "      <th></th>\n",
       "      <td>87</td>\n",
       "      <td>54</td>\n",
       "      <td>141</td>\n",
       "    </tr>\n",
       "  </tbody>\n",
       "</table>\n",
       "</div>"
      ],
      "text/plain": [
       "fraudulent                                            0.0  1.0  All\n",
       "paymentMethods__paymentMethodType orders__orderState               \n",
       "apple pay                         failed                2    0    2\n",
       "                                  fulfilled             4    7   11\n",
       "bitcoin                           failed                1    2    3\n",
       "                                  fulfilled             6    5   11\n",
       "card                              failed                6    5   11\n",
       "                                  fulfilled            50   30   80\n",
       "                                  pending               5    1    6\n",
       "paypal                            failed                2    0    2\n",
       "                                  fulfilled            10    3   13\n",
       "                                  pending               1    1    2\n",
       "All                                                    87   54  141"
      ]
     },
     "execution_count": 30,
     "metadata": {},
     "output_type": "execute_result"
    }
   ],
   "source": [
    "pd.crosstab([df1.paymentMethods__paymentMethodType,df1.orders__orderState],[df1.fraudulent],margins=True)"
   ]
  },
  {
   "cell_type": "code",
   "execution_count": 15,
   "metadata": {},
   "outputs": [
    {
     "data": {
      "text/html": [
       "<div>\n",
       "<style scoped>\n",
       "    .dataframe tbody tr th:only-of-type {\n",
       "        vertical-align: middle;\n",
       "    }\n",
       "\n",
       "    .dataframe tbody tr th {\n",
       "        vertical-align: top;\n",
       "    }\n",
       "\n",
       "    .dataframe thead th {\n",
       "        text-align: right;\n",
       "    }\n",
       "</style>\n",
       "<table border=\"1\" class=\"dataframe\">\n",
       "  <thead>\n",
       "    <tr style=\"text-align: right;\">\n",
       "      <th></th>\n",
       "      <th>fraudulent</th>\n",
       "      <th>orders__orderState</th>\n",
       "      <th>paymentMethods__paymentMethodRegistrationFailure</th>\n",
       "      <th>paymentMethods__paymentMethodType</th>\n",
       "      <th>transactions__transactionAmount</th>\n",
       "      <th>transactions__transactionFailed</th>\n",
       "    </tr>\n",
       "  </thead>\n",
       "  <tbody>\n",
       "    <tr>\n",
       "      <th>0</th>\n",
       "      <td>0.0</td>\n",
       "      <td>pending</td>\n",
       "      <td>1.0</td>\n",
       "      <td>card</td>\n",
       "      <td>18.0</td>\n",
       "      <td>0.0</td>\n",
       "    </tr>\n",
       "    <tr>\n",
       "      <th>1</th>\n",
       "      <td>NaN</td>\n",
       "      <td>fulfilled</td>\n",
       "      <td>NaN</td>\n",
       "      <td>NaN</td>\n",
       "      <td>26.0</td>\n",
       "      <td>0.0</td>\n",
       "    </tr>\n",
       "    <tr>\n",
       "      <th>2</th>\n",
       "      <td>1.0</td>\n",
       "      <td>fulfilled</td>\n",
       "      <td>1.0</td>\n",
       "      <td>bitcoin</td>\n",
       "      <td>45.0</td>\n",
       "      <td>0.0</td>\n",
       "    </tr>\n",
       "    <tr>\n",
       "      <th>3</th>\n",
       "      <td>NaN</td>\n",
       "      <td>fulfilled</td>\n",
       "      <td>0.0</td>\n",
       "      <td>card</td>\n",
       "      <td>23.0</td>\n",
       "      <td>0.0</td>\n",
       "    </tr>\n",
       "    <tr>\n",
       "      <th>4</th>\n",
       "      <td>NaN</td>\n",
       "      <td>fulfilled</td>\n",
       "      <td>0.0</td>\n",
       "      <td>card</td>\n",
       "      <td>43.0</td>\n",
       "      <td>1.0</td>\n",
       "    </tr>\n",
       "  </tbody>\n",
       "</table>\n",
       "</div>"
      ],
      "text/plain": [
       "   fraudulent orders__orderState  \\\n",
       "0         0.0            pending   \n",
       "1         NaN          fulfilled   \n",
       "2         1.0          fulfilled   \n",
       "3         NaN          fulfilled   \n",
       "4         NaN          fulfilled   \n",
       "\n",
       "   paymentMethods__paymentMethodRegistrationFailure  \\\n",
       "0                                               1.0   \n",
       "1                                               NaN   \n",
       "2                                               1.0   \n",
       "3                                               0.0   \n",
       "4                                               0.0   \n",
       "\n",
       "  paymentMethods__paymentMethodType  transactions__transactionAmount  \\\n",
       "0                              card                             18.0   \n",
       "1                               NaN                             26.0   \n",
       "2                           bitcoin                             45.0   \n",
       "3                              card                             23.0   \n",
       "4                              card                             43.0   \n",
       "\n",
       "   transactions__transactionFailed  \n",
       "0                              0.0  \n",
       "1                              0.0  \n",
       "2                              0.0  \n",
       "3                              0.0  \n",
       "4                              1.0  "
      ]
     },
     "execution_count": 15,
     "metadata": {},
     "output_type": "execute_result"
    }
   ],
   "source": [
    "df1['transactions__transactionAmount'].fillna(df['transactions__transactionAmount'].mean(), inplace=True)\n",
    "df1.head()"
   ]
  },
  {
   "cell_type": "code",
   "execution_count": 16,
   "metadata": {},
   "outputs": [
    {
     "data": {
      "text/plain": [
       "fraudulent                                          538\n",
       "orders__orderState                                  228\n",
       "paymentMethods__paymentMethodRegistrationFailure    364\n",
       "paymentMethods__paymentMethodType                   364\n",
       "transactions__transactionAmount                       0\n",
       "transactions__transactionFailed                      83\n",
       "dtype: int64"
      ]
     },
     "execution_count": 16,
     "metadata": {},
     "output_type": "execute_result"
    }
   ],
   "source": [
    "df1.isna().sum()"
   ]
  },
  {
   "cell_type": "markdown",
   "metadata": {},
   "source": [
    "# Report\n",
    "\n",
    "\n",
    "Objective: To Investigate Frauds in e-commerce data set using Exploratory Data Analysis\n",
    "Tools/Methods used:\n",
    "Summary Measures        :  Tables,Graphs,Central Tendencies\n",
    "Relationship Analysis      :   Cross tabs, Correlations\n",
    "Software’s Used              :    Python(jupyter notebook), Excel\n",
    "\n",
    "FINDINGS:\n",
    "\t   total\tfraud\tpercentage of Fraud\n",
    "card\t106\t39\t36.79245\t\n",
    "apple pay\t14\t7\t50\t\n",
    "bitcoin\t14\t7\t50\t\n",
    "paypal\t22\t7\t31.81818\t\n",
    "\n",
    "•\tIt is found that people who are using Apple pay and bitcoins are found as fraudulent As per the data Recorded.\n",
    "•\tAmong the fulfilled Transaction People who are using card are Found to be fraudulent it may be because of carding techniques.\n",
    "•\tIn Data set missing values are above 50% \n",
    "•\tTransaction amount variable is not much effected by outliers , there is only one outlier existed in Transaction amount variable, so we can use mean for missing  values replacement\n",
    "•\tIt is found that 75% of people are spending amount between 10-50 and it is shown in Histogram and box plot\n",
    "SUGGESTIONS:\n",
    "•\tIt is suggested that to collect the data regarding Ip address because it is essential to estimate the fraudulent .\n",
    "•\tIt is not suggested to impute all missing values with mode because here maximum data is missing and the data is categorical.\n",
    "CONCLUSION:\n",
    "•\tWe have to impute missing values with various methods like knn imputation and mode for to increase the Accuracy\n",
    "•\tHere we can use Logistic Regression for probability of fraudulent. And we can also use Random Forest classifier for Constraints designing.\n",
    "\n",
    "\n",
    "\n",
    "\n",
    "\n",
    "\n",
    "\n",
    "\n",
    "\n",
    "\n",
    "\n",
    "\n",
    "\n",
    "\n",
    "\n",
    "\n",
    "\n",
    "\n",
    "\n",
    "\n",
    "\n",
    "\n",
    "\n",
    "\n",
    "\n",
    "\n",
    "\n",
    "\n",
    "\n",
    "\n"
   ]
  },
  {
   "cell_type": "code",
   "execution_count": null,
   "metadata": {},
   "outputs": [],
   "source": []
  },
  {
   "cell_type": "code",
   "execution_count": null,
   "metadata": {},
   "outputs": [],
   "source": []
  },
  {
   "cell_type": "code",
   "execution_count": null,
   "metadata": {},
   "outputs": [],
   "source": []
  }
 ],
 "metadata": {
  "kernelspec": {
   "display_name": "Python 3",
   "language": "python",
   "name": "python3"
  },
  "language_info": {
   "codemirror_mode": {
    "name": "ipython",
    "version": 3
   },
   "file_extension": ".py",
   "mimetype": "text/x-python",
   "name": "python",
   "nbconvert_exporter": "python",
   "pygments_lexer": "ipython3",
   "version": "3.6.8"
  }
 },
 "nbformat": 4,
 "nbformat_minor": 2
}
